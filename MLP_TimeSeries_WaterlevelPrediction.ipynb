{
  "nbformat": 4,
  "nbformat_minor": 0,
  "metadata": {
    "colab": {
      "name": "MLP-TimeSeries-WaterlevelPrediction.ipynb",
      "provenance": [],
      "collapsed_sections": []
    },
    "kernelspec": {
      "name": "python3",
      "display_name": "Python 3"
    },
    "language_info": {
      "name": "python"
    }
  },
  "cells": [
    {
      "cell_type": "code",
      "metadata": {
        "id": "x_6oRpnsPY6P"
      },
      "source": [
        "import tensorflow as tf"
      ],
      "execution_count": null,
      "outputs": []
    },
    {
      "cell_type": "code",
      "metadata": {
        "id": "pd99ULuAPYMh"
      },
      "source": [
        "import numpy as np\n",
        "import matplotlib.pyplot as plt\n",
        "import pandas\n",
        "import math\n",
        "from keras.models import Sequential\n",
        "from keras.layers import Dense\n",
        "from sklearn.preprocessing import MinMaxScaler\n",
        "from sklearn.metrics import mean_squared_error"
      ],
      "execution_count": null,
      "outputs": []
    },
    {
      "cell_type": "code",
      "metadata": {
        "colab": {
          "base_uri": "https://localhost:8080/",
          "height": 423
        },
        "id": "7r-bS_jRPskp",
        "outputId": "ca08caff-ba9e-4a4f-f099-7e7f644d5108"
      },
      "source": [
        "# loading the dataset\n",
        "dataframe = pandas.read_csv('Harangi.csv', usecols=[6,7,8], engine='python')\n",
        "dataframe"
      ],
      "execution_count": null,
      "outputs": [
        {
          "output_type": "execute_result",
          "data": {
            "text/html": [
              "<div>\n",
              "<style scoped>\n",
              "    .dataframe tbody tr th:only-of-type {\n",
              "        vertical-align: middle;\n",
              "    }\n",
              "\n",
              "    .dataframe tbody tr th {\n",
              "        vertical-align: top;\n",
              "    }\n",
              "\n",
              "    .dataframe thead th {\n",
              "        text-align: right;\n",
              "    }\n",
              "</style>\n",
              "<table border=\"1\" class=\"dataframe\">\n",
              "  <thead>\n",
              "    <tr style=\"text-align: right;\">\n",
              "      <th></th>\n",
              "      <th>RES_LEVEL_FT</th>\n",
              "      <th>INFLOW_CUSECS</th>\n",
              "      <th>OUTFLOW_CUECS</th>\n",
              "    </tr>\n",
              "  </thead>\n",
              "  <tbody>\n",
              "    <tr>\n",
              "      <th>0</th>\n",
              "      <td>2835.90</td>\n",
              "      <td>142</td>\n",
              "      <td>0</td>\n",
              "    </tr>\n",
              "    <tr>\n",
              "      <th>1</th>\n",
              "      <td>2836.09</td>\n",
              "      <td>239</td>\n",
              "      <td>0</td>\n",
              "    </tr>\n",
              "    <tr>\n",
              "      <th>2</th>\n",
              "      <td>2836.22</td>\n",
              "      <td>166</td>\n",
              "      <td>0</td>\n",
              "    </tr>\n",
              "    <tr>\n",
              "      <th>3</th>\n",
              "      <td>2836.31</td>\n",
              "      <td>118</td>\n",
              "      <td>0</td>\n",
              "    </tr>\n",
              "    <tr>\n",
              "      <th>4</th>\n",
              "      <td>2836.41</td>\n",
              "      <td>130</td>\n",
              "      <td>0</td>\n",
              "    </tr>\n",
              "    <tr>\n",
              "      <th>...</th>\n",
              "      <td>...</td>\n",
              "      <td>...</td>\n",
              "      <td>...</td>\n",
              "    </tr>\n",
              "    <tr>\n",
              "      <th>3316</th>\n",
              "      <td>2828.07</td>\n",
              "      <td>239</td>\n",
              "      <td>770</td>\n",
              "    </tr>\n",
              "    <tr>\n",
              "      <th>3317</th>\n",
              "      <td>2827.13</td>\n",
              "      <td>221</td>\n",
              "      <td>770</td>\n",
              "    </tr>\n",
              "    <tr>\n",
              "      <th>3318</th>\n",
              "      <td>2826.17</td>\n",
              "      <td>220</td>\n",
              "      <td>760</td>\n",
              "    </tr>\n",
              "    <tr>\n",
              "      <th>3319</th>\n",
              "      <td>2825.39</td>\n",
              "      <td>217</td>\n",
              "      <td>660</td>\n",
              "    </tr>\n",
              "    <tr>\n",
              "      <th>3320</th>\n",
              "      <td>2824.65</td>\n",
              "      <td>219</td>\n",
              "      <td>640</td>\n",
              "    </tr>\n",
              "  </tbody>\n",
              "</table>\n",
              "<p>3321 rows × 3 columns</p>\n",
              "</div>"
            ],
            "text/plain": [
              "     RES_LEVEL_FT INFLOW_CUSECS OUTFLOW_CUECS\n",
              "0         2835.90           142             0\n",
              "1         2836.09           239             0\n",
              "2         2836.22           166             0\n",
              "3         2836.31           118             0\n",
              "4         2836.41           130             0\n",
              "...           ...           ...           ...\n",
              "3316      2828.07           239           770\n",
              "3317      2827.13           221           770\n",
              "3318      2826.17           220           760\n",
              "3319      2825.39           217           660\n",
              "3320      2824.65           219           640\n",
              "\n",
              "[3321 rows x 3 columns]"
            ]
          },
          "metadata": {
            "tags": []
          },
          "execution_count": 3
        }
      ]
    },
    {
      "cell_type": "code",
      "metadata": {
        "colab": {
          "base_uri": "https://localhost:8080/",
          "height": 206
        },
        "id": "E3hmRo3dSuAG",
        "outputId": "683e566c-9980-451c-c23b-2efe05c1d6c7"
      },
      "source": [
        "#loading the dataset\n",
        "df=pandas.read_csv(r'Harangi.csv')\n",
        "df.head()"
      ],
      "execution_count": null,
      "outputs": [
        {
          "output_type": "execute_result",
          "data": {
            "text/html": [
              "<div>\n",
              "<style scoped>\n",
              "    .dataframe tbody tr th:only-of-type {\n",
              "        vertical-align: middle;\n",
              "    }\n",
              "\n",
              "    .dataframe tbody tr th {\n",
              "        vertical-align: top;\n",
              "    }\n",
              "\n",
              "    .dataframe thead th {\n",
              "        text-align: right;\n",
              "    }\n",
              "</style>\n",
              "<table border=\"1\" class=\"dataframe\">\n",
              "  <thead>\n",
              "    <tr style=\"text-align: right;\">\n",
              "      <th></th>\n",
              "      <th>SL_NO</th>\n",
              "      <th>RESERVOIR</th>\n",
              "      <th>YEAR</th>\n",
              "      <th>WEEK_NO</th>\n",
              "      <th>FLOW_DATE</th>\n",
              "      <th>PRESENT_STORAGE_TMC</th>\n",
              "      <th>RES_LEVEL_FT</th>\n",
              "      <th>INFLOW_CUSECS</th>\n",
              "      <th>OUTFLOW_CUECS</th>\n",
              "      <th>UNIQUE_KEY</th>\n",
              "    </tr>\n",
              "  </thead>\n",
              "  <tbody>\n",
              "    <tr>\n",
              "      <th>0</th>\n",
              "      <td>37</td>\n",
              "      <td>Harangi</td>\n",
              "      <td>2011</td>\n",
              "      <td>1</td>\n",
              "      <td>2011-01-01</td>\n",
              "      <td>3.74</td>\n",
              "      <td>2835.90</td>\n",
              "      <td>142</td>\n",
              "      <td>0</td>\n",
              "      <td>HARANGI-2011-01-01</td>\n",
              "    </tr>\n",
              "    <tr>\n",
              "      <th>1</th>\n",
              "      <td>38</td>\n",
              "      <td>Harangi</td>\n",
              "      <td>2011</td>\n",
              "      <td>1</td>\n",
              "      <td>2011-01-02</td>\n",
              "      <td>3.76</td>\n",
              "      <td>2836.09</td>\n",
              "      <td>239</td>\n",
              "      <td>0</td>\n",
              "      <td>HARANGI-2011-01-02</td>\n",
              "    </tr>\n",
              "    <tr>\n",
              "      <th>2</th>\n",
              "      <td>39</td>\n",
              "      <td>Harangi</td>\n",
              "      <td>2011</td>\n",
              "      <td>1</td>\n",
              "      <td>2011-01-03</td>\n",
              "      <td>3.77</td>\n",
              "      <td>2836.22</td>\n",
              "      <td>166</td>\n",
              "      <td>0</td>\n",
              "      <td>HARANGI-2011-01-03</td>\n",
              "    </tr>\n",
              "    <tr>\n",
              "      <th>3</th>\n",
              "      <td>40</td>\n",
              "      <td>Harangi</td>\n",
              "      <td>2011</td>\n",
              "      <td>1</td>\n",
              "      <td>2011-01-04</td>\n",
              "      <td>3.78</td>\n",
              "      <td>2836.31</td>\n",
              "      <td>118</td>\n",
              "      <td>0</td>\n",
              "      <td>HARANGI-2011-01-04</td>\n",
              "    </tr>\n",
              "    <tr>\n",
              "      <th>4</th>\n",
              "      <td>41</td>\n",
              "      <td>Harangi</td>\n",
              "      <td>2011</td>\n",
              "      <td>1</td>\n",
              "      <td>2011-01-05</td>\n",
              "      <td>3.79</td>\n",
              "      <td>2836.41</td>\n",
              "      <td>130</td>\n",
              "      <td>0</td>\n",
              "      <td>HARANGI-2011-01-05</td>\n",
              "    </tr>\n",
              "  </tbody>\n",
              "</table>\n",
              "</div>"
            ],
            "text/plain": [
              "   SL_NO RESERVOIR  YEAR  ...  INFLOW_CUSECS OUTFLOW_CUECS          UNIQUE_KEY\n",
              "0     37   Harangi  2011  ...            142             0  HARANGI-2011-01-01\n",
              "1     38   Harangi  2011  ...            239             0  HARANGI-2011-01-02\n",
              "2     39   Harangi  2011  ...            166             0  HARANGI-2011-01-03\n",
              "3     40   Harangi  2011  ...            118             0  HARANGI-2011-01-04\n",
              "4     41   Harangi  2011  ...            130             0  HARANGI-2011-01-05\n",
              "\n",
              "[5 rows x 10 columns]"
            ]
          },
          "metadata": {
            "tags": []
          },
          "execution_count": 4
        }
      ]
    },
    {
      "cell_type": "code",
      "metadata": {
        "id": "W8wv6QdlT5n_"
      },
      "source": [
        "df['UNIQUE_KEY'] = df['UNIQUE_KEY'].apply(lambda x : x[8:])"
      ],
      "execution_count": null,
      "outputs": []
    },
    {
      "cell_type": "code",
      "metadata": {
        "id": "JxwJMgtFFnqS"
      },
      "source": [
        "df = df.drop(columns=['SL_NO'])\n",
        "df = df.drop(columns=['RESERVOIR'])\n"
      ],
      "execution_count": null,
      "outputs": []
    },
    {
      "cell_type": "code",
      "metadata": {
        "colab": {
          "base_uri": "https://localhost:8080/",
          "height": 206
        },
        "id": "YgfSjaQpUY-P",
        "outputId": "27c390f2-4537-4605-a864-bc5ad75028b5"
      },
      "source": [
        "df.head()"
      ],
      "execution_count": null,
      "outputs": [
        {
          "output_type": "execute_result",
          "data": {
            "text/html": [
              "<div>\n",
              "<style scoped>\n",
              "    .dataframe tbody tr th:only-of-type {\n",
              "        vertical-align: middle;\n",
              "    }\n",
              "\n",
              "    .dataframe tbody tr th {\n",
              "        vertical-align: top;\n",
              "    }\n",
              "\n",
              "    .dataframe thead th {\n",
              "        text-align: right;\n",
              "    }\n",
              "</style>\n",
              "<table border=\"1\" class=\"dataframe\">\n",
              "  <thead>\n",
              "    <tr style=\"text-align: right;\">\n",
              "      <th></th>\n",
              "      <th>YEAR</th>\n",
              "      <th>WEEK_NO</th>\n",
              "      <th>FLOW_DATE</th>\n",
              "      <th>PRESENT_STORAGE_TMC</th>\n",
              "      <th>RES_LEVEL_FT</th>\n",
              "      <th>INFLOW_CUSECS</th>\n",
              "      <th>OUTFLOW_CUECS</th>\n",
              "      <th>UNIQUE_KEY</th>\n",
              "    </tr>\n",
              "  </thead>\n",
              "  <tbody>\n",
              "    <tr>\n",
              "      <th>0</th>\n",
              "      <td>2011</td>\n",
              "      <td>1</td>\n",
              "      <td>2011-01-01</td>\n",
              "      <td>3.74</td>\n",
              "      <td>2835.90</td>\n",
              "      <td>142</td>\n",
              "      <td>0</td>\n",
              "      <td>2011-01-01</td>\n",
              "    </tr>\n",
              "    <tr>\n",
              "      <th>1</th>\n",
              "      <td>2011</td>\n",
              "      <td>1</td>\n",
              "      <td>2011-01-02</td>\n",
              "      <td>3.76</td>\n",
              "      <td>2836.09</td>\n",
              "      <td>239</td>\n",
              "      <td>0</td>\n",
              "      <td>2011-01-02</td>\n",
              "    </tr>\n",
              "    <tr>\n",
              "      <th>2</th>\n",
              "      <td>2011</td>\n",
              "      <td>1</td>\n",
              "      <td>2011-01-03</td>\n",
              "      <td>3.77</td>\n",
              "      <td>2836.22</td>\n",
              "      <td>166</td>\n",
              "      <td>0</td>\n",
              "      <td>2011-01-03</td>\n",
              "    </tr>\n",
              "    <tr>\n",
              "      <th>3</th>\n",
              "      <td>2011</td>\n",
              "      <td>1</td>\n",
              "      <td>2011-01-04</td>\n",
              "      <td>3.78</td>\n",
              "      <td>2836.31</td>\n",
              "      <td>118</td>\n",
              "      <td>0</td>\n",
              "      <td>2011-01-04</td>\n",
              "    </tr>\n",
              "    <tr>\n",
              "      <th>4</th>\n",
              "      <td>2011</td>\n",
              "      <td>1</td>\n",
              "      <td>2011-01-05</td>\n",
              "      <td>3.79</td>\n",
              "      <td>2836.41</td>\n",
              "      <td>130</td>\n",
              "      <td>0</td>\n",
              "      <td>2011-01-05</td>\n",
              "    </tr>\n",
              "  </tbody>\n",
              "</table>\n",
              "</div>"
            ],
            "text/plain": [
              "   YEAR  WEEK_NO   FLOW_DATE  ...  INFLOW_CUSECS OUTFLOW_CUECS  UNIQUE_KEY\n",
              "0  2011        1  2011-01-01  ...            142             0  2011-01-01\n",
              "1  2011        1  2011-01-02  ...            239             0  2011-01-02\n",
              "2  2011        1  2011-01-03  ...            166             0  2011-01-03\n",
              "3  2011        1  2011-01-04  ...            118             0  2011-01-04\n",
              "4  2011        1  2011-01-05  ...            130             0  2011-01-05\n",
              "\n",
              "[5 rows x 8 columns]"
            ]
          },
          "metadata": {
            "tags": []
          },
          "execution_count": 7
        }
      ]
    },
    {
      "cell_type": "code",
      "metadata": {
        "id": "UyrjFjiwWq8f"
      },
      "source": [
        "import datetime as dt"
      ],
      "execution_count": null,
      "outputs": []
    },
    {
      "cell_type": "code",
      "metadata": {
        "id": "1XISbEBDVOSo"
      },
      "source": [
        "df['UNIQUE_KEY'] = pandas.to_datetime(df['UNIQUE_KEY'])\n",
        "df['UNIQUE_KEY'] = df['UNIQUE_KEY'].map(dt.datetime.toordinal)"
      ],
      "execution_count": null,
      "outputs": []
    },
    {
      "cell_type": "code",
      "metadata": {
        "id": "dr-3ADblVdbg"
      },
      "source": [
        "df = df.drop(columns=['FLOW_DATE'])"
      ],
      "execution_count": null,
      "outputs": []
    },
    {
      "cell_type": "code",
      "metadata": {
        "id": "Yyc9JjmgQZIj"
      },
      "source": [
        " df = df.drop([499])\n",
        " df = df.drop([981])"
      ],
      "execution_count": null,
      "outputs": []
    },
    {
      "cell_type": "code",
      "metadata": {
        "colab": {
          "base_uri": "https://localhost:8080/",
          "height": 206
        },
        "id": "tz9nnrIvFaKn",
        "outputId": "6835ce3a-fb51-4cd0-ffbe-d9769e9c0dcf"
      },
      "source": [
        "df.head()"
      ],
      "execution_count": null,
      "outputs": [
        {
          "output_type": "execute_result",
          "data": {
            "text/html": [
              "<div>\n",
              "<style scoped>\n",
              "    .dataframe tbody tr th:only-of-type {\n",
              "        vertical-align: middle;\n",
              "    }\n",
              "\n",
              "    .dataframe tbody tr th {\n",
              "        vertical-align: top;\n",
              "    }\n",
              "\n",
              "    .dataframe thead th {\n",
              "        text-align: right;\n",
              "    }\n",
              "</style>\n",
              "<table border=\"1\" class=\"dataframe\">\n",
              "  <thead>\n",
              "    <tr style=\"text-align: right;\">\n",
              "      <th></th>\n",
              "      <th>YEAR</th>\n",
              "      <th>WEEK_NO</th>\n",
              "      <th>PRESENT_STORAGE_TMC</th>\n",
              "      <th>RES_LEVEL_FT</th>\n",
              "      <th>INFLOW_CUSECS</th>\n",
              "      <th>OUTFLOW_CUECS</th>\n",
              "      <th>UNIQUE_KEY</th>\n",
              "    </tr>\n",
              "  </thead>\n",
              "  <tbody>\n",
              "    <tr>\n",
              "      <th>0</th>\n",
              "      <td>2011</td>\n",
              "      <td>1</td>\n",
              "      <td>3.74</td>\n",
              "      <td>2835.90</td>\n",
              "      <td>142</td>\n",
              "      <td>0</td>\n",
              "      <td>734138</td>\n",
              "    </tr>\n",
              "    <tr>\n",
              "      <th>1</th>\n",
              "      <td>2011</td>\n",
              "      <td>1</td>\n",
              "      <td>3.76</td>\n",
              "      <td>2836.09</td>\n",
              "      <td>239</td>\n",
              "      <td>0</td>\n",
              "      <td>734139</td>\n",
              "    </tr>\n",
              "    <tr>\n",
              "      <th>2</th>\n",
              "      <td>2011</td>\n",
              "      <td>1</td>\n",
              "      <td>3.77</td>\n",
              "      <td>2836.22</td>\n",
              "      <td>166</td>\n",
              "      <td>0</td>\n",
              "      <td>734140</td>\n",
              "    </tr>\n",
              "    <tr>\n",
              "      <th>3</th>\n",
              "      <td>2011</td>\n",
              "      <td>1</td>\n",
              "      <td>3.78</td>\n",
              "      <td>2836.31</td>\n",
              "      <td>118</td>\n",
              "      <td>0</td>\n",
              "      <td>734141</td>\n",
              "    </tr>\n",
              "    <tr>\n",
              "      <th>4</th>\n",
              "      <td>2011</td>\n",
              "      <td>1</td>\n",
              "      <td>3.79</td>\n",
              "      <td>2836.41</td>\n",
              "      <td>130</td>\n",
              "      <td>0</td>\n",
              "      <td>734142</td>\n",
              "    </tr>\n",
              "  </tbody>\n",
              "</table>\n",
              "</div>"
            ],
            "text/plain": [
              "   YEAR  WEEK_NO  PRESENT_STORAGE_TMC  ... INFLOW_CUSECS OUTFLOW_CUECS UNIQUE_KEY\n",
              "0  2011        1                 3.74  ...           142             0     734138\n",
              "1  2011        1                 3.76  ...           239             0     734139\n",
              "2  2011        1                 3.77  ...           166             0     734140\n",
              "3  2011        1                 3.78  ...           118             0     734141\n",
              "4  2011        1                 3.79  ...           130             0     734142\n",
              "\n",
              "[5 rows x 7 columns]"
            ]
          },
          "metadata": {
            "tags": []
          },
          "execution_count": 12
        }
      ]
    },
    {
      "cell_type": "code",
      "metadata": {
        "colab": {
          "base_uri": "https://localhost:8080/",
          "height": 423
        },
        "id": "hJLWQgI2QZMG",
        "outputId": "7a572310-ab35-4243-b0a2-342340b50483"
      },
      "source": [
        "dataset = df.to_numpy()\n",
        "dataset = df.astype('float32')\n",
        "dataset"
      ],
      "execution_count": null,
      "outputs": [
        {
          "output_type": "execute_result",
          "data": {
            "text/html": [
              "<div>\n",
              "<style scoped>\n",
              "    .dataframe tbody tr th:only-of-type {\n",
              "        vertical-align: middle;\n",
              "    }\n",
              "\n",
              "    .dataframe tbody tr th {\n",
              "        vertical-align: top;\n",
              "    }\n",
              "\n",
              "    .dataframe thead th {\n",
              "        text-align: right;\n",
              "    }\n",
              "</style>\n",
              "<table border=\"1\" class=\"dataframe\">\n",
              "  <thead>\n",
              "    <tr style=\"text-align: right;\">\n",
              "      <th></th>\n",
              "      <th>YEAR</th>\n",
              "      <th>WEEK_NO</th>\n",
              "      <th>PRESENT_STORAGE_TMC</th>\n",
              "      <th>RES_LEVEL_FT</th>\n",
              "      <th>INFLOW_CUSECS</th>\n",
              "      <th>OUTFLOW_CUECS</th>\n",
              "      <th>UNIQUE_KEY</th>\n",
              "    </tr>\n",
              "  </thead>\n",
              "  <tbody>\n",
              "    <tr>\n",
              "      <th>0</th>\n",
              "      <td>2011.0</td>\n",
              "      <td>1.0</td>\n",
              "      <td>3.74</td>\n",
              "      <td>2835.899902</td>\n",
              "      <td>142.0</td>\n",
              "      <td>0.0</td>\n",
              "      <td>734138.0</td>\n",
              "    </tr>\n",
              "    <tr>\n",
              "      <th>1</th>\n",
              "      <td>2011.0</td>\n",
              "      <td>1.0</td>\n",
              "      <td>3.76</td>\n",
              "      <td>2836.090088</td>\n",
              "      <td>239.0</td>\n",
              "      <td>0.0</td>\n",
              "      <td>734139.0</td>\n",
              "    </tr>\n",
              "    <tr>\n",
              "      <th>2</th>\n",
              "      <td>2011.0</td>\n",
              "      <td>1.0</td>\n",
              "      <td>3.77</td>\n",
              "      <td>2836.219971</td>\n",
              "      <td>166.0</td>\n",
              "      <td>0.0</td>\n",
              "      <td>734140.0</td>\n",
              "    </tr>\n",
              "    <tr>\n",
              "      <th>3</th>\n",
              "      <td>2011.0</td>\n",
              "      <td>1.0</td>\n",
              "      <td>3.78</td>\n",
              "      <td>2836.310059</td>\n",
              "      <td>118.0</td>\n",
              "      <td>0.0</td>\n",
              "      <td>734141.0</td>\n",
              "    </tr>\n",
              "    <tr>\n",
              "      <th>4</th>\n",
              "      <td>2011.0</td>\n",
              "      <td>1.0</td>\n",
              "      <td>3.79</td>\n",
              "      <td>2836.409912</td>\n",
              "      <td>130.0</td>\n",
              "      <td>0.0</td>\n",
              "      <td>734142.0</td>\n",
              "    </tr>\n",
              "    <tr>\n",
              "      <th>...</th>\n",
              "      <td>...</td>\n",
              "      <td>...</td>\n",
              "      <td>...</td>\n",
              "      <td>...</td>\n",
              "      <td>...</td>\n",
              "      <td>...</td>\n",
              "      <td>...</td>\n",
              "    </tr>\n",
              "    <tr>\n",
              "      <th>3316</th>\n",
              "      <td>2020.0</td>\n",
              "      <td>50.0</td>\n",
              "      <td>3.24</td>\n",
              "      <td>2828.070068</td>\n",
              "      <td>239.0</td>\n",
              "      <td>770.0</td>\n",
              "      <td>737771.0</td>\n",
              "    </tr>\n",
              "    <tr>\n",
              "      <th>3317</th>\n",
              "      <td>2020.0</td>\n",
              "      <td>50.0</td>\n",
              "      <td>3.19</td>\n",
              "      <td>2827.129883</td>\n",
              "      <td>221.0</td>\n",
              "      <td>770.0</td>\n",
              "      <td>737772.0</td>\n",
              "    </tr>\n",
              "    <tr>\n",
              "      <th>3318</th>\n",
              "      <td>2020.0</td>\n",
              "      <td>50.0</td>\n",
              "      <td>3.14</td>\n",
              "      <td>2826.169922</td>\n",
              "      <td>220.0</td>\n",
              "      <td>760.0</td>\n",
              "      <td>737773.0</td>\n",
              "    </tr>\n",
              "    <tr>\n",
              "      <th>3319</th>\n",
              "      <td>2020.0</td>\n",
              "      <td>50.0</td>\n",
              "      <td>3.10</td>\n",
              "      <td>2825.389893</td>\n",
              "      <td>217.0</td>\n",
              "      <td>660.0</td>\n",
              "      <td>737774.0</td>\n",
              "    </tr>\n",
              "    <tr>\n",
              "      <th>3320</th>\n",
              "      <td>2020.0</td>\n",
              "      <td>50.0</td>\n",
              "      <td>3.07</td>\n",
              "      <td>2824.649902</td>\n",
              "      <td>219.0</td>\n",
              "      <td>640.0</td>\n",
              "      <td>737775.0</td>\n",
              "    </tr>\n",
              "  </tbody>\n",
              "</table>\n",
              "<p>3319 rows × 7 columns</p>\n",
              "</div>"
            ],
            "text/plain": [
              "        YEAR  WEEK_NO  ...  OUTFLOW_CUECS  UNIQUE_KEY\n",
              "0     2011.0      1.0  ...            0.0    734138.0\n",
              "1     2011.0      1.0  ...            0.0    734139.0\n",
              "2     2011.0      1.0  ...            0.0    734140.0\n",
              "3     2011.0      1.0  ...            0.0    734141.0\n",
              "4     2011.0      1.0  ...            0.0    734142.0\n",
              "...      ...      ...  ...            ...         ...\n",
              "3316  2020.0     50.0  ...          770.0    737771.0\n",
              "3317  2020.0     50.0  ...          770.0    737772.0\n",
              "3318  2020.0     50.0  ...          760.0    737773.0\n",
              "3319  2020.0     50.0  ...          660.0    737774.0\n",
              "3320  2020.0     50.0  ...          640.0    737775.0\n",
              "\n",
              "[3319 rows x 7 columns]"
            ]
          },
          "metadata": {
            "tags": []
          },
          "execution_count": 13
        }
      ]
    },
    {
      "cell_type": "code",
      "metadata": {
        "id": "j6WMZilbZpC_"
      },
      "source": [
        "dataset = np.array(dataset)"
      ],
      "execution_count": null,
      "outputs": []
    },
    {
      "cell_type": "code",
      "metadata": {
        "colab": {
          "base_uri": "https://localhost:8080/"
        },
        "id": "3NSPLWSkPj_M",
        "outputId": "c48901fd-0638-4071-9404-920e0546a25d"
      },
      "source": [
        "X = dataset[:,3:6]\n",
        "X\n",
        "Y = dataset[:, 3:6]\n",
        "Y"
      ],
      "execution_count": null,
      "outputs": [
        {
          "output_type": "execute_result",
          "data": {
            "text/plain": [
              "array([[2835.9 ,  142.  ,    0.  ],\n",
              "       [2836.09,  239.  ,    0.  ],\n",
              "       [2836.22,  166.  ,    0.  ],\n",
              "       ...,\n",
              "       [2826.17,  220.  ,  760.  ],\n",
              "       [2825.39,  217.  ,  660.  ],\n",
              "       [2824.65,  219.  ,  640.  ]], dtype=float32)"
            ]
          },
          "metadata": {
            "tags": []
          },
          "execution_count": 15
        }
      ]
    },
    {
      "cell_type": "code",
      "metadata": {
        "id": "Ve5TLsFxaoAH"
      },
      "source": [
        "from sklearn.model_selection import RepeatedKFold\n",
        "from keras.models import Sequential\n",
        "from keras.layers import Dense"
      ],
      "execution_count": null,
      "outputs": []
    },
    {
      "cell_type": "code",
      "metadata": {
        "id": "LksyCbWMPY-3"
      },
      "source": [
        "# evaluating model using repeated k-fold cross-validation\n",
        "def evaluate_model(X, y):\n",
        "\tresults = list()\n",
        "\tn_inputs, n_outputs = X.shape[1], y.shape[1]\n",
        "\tcv = RepeatedKFold(n_splits=10, n_repeats=3, random_state=1)\n",
        "\tfor train_ix, test_ix in cv.split(X):\n",
        "\t\t# prepare data\n",
        "\t\tX_train, X_test = X[train_ix], X[test_ix]\n",
        "\t\ty_train, y_test = y[train_ix], y[test_ix]\n",
        "\t\t# define model\n",
        "\t\tmodel = get_model(n_inputs, n_outputs)\n",
        "\t\t# fit model\n",
        "\t\tmodel.fit(X_train, y_train, verbose=0, epochs=100)\n",
        "\t\t# evaluate model on test set\n",
        "\t\tmae = model.evaluate(X_test, y_test, verbose=0)\n",
        "\t\t# store result\n",
        "\t\tprint('>%.3f' % mae)  #Mean Absolute Error as evaluation metrics\n",
        "\t\tresults.append(mae)\n",
        "\treturn results"
      ],
      "execution_count": null,
      "outputs": []
    },
    {
      "cell_type": "code",
      "metadata": {
        "id": "KZnvpQDMqcCw"
      },
      "source": [
        "def plot_future(prediction, y_test=[0,0,0]):\n",
        "    plt.figure(figsize=(10, 6))\n",
        "    range_future = len(prediction)\n",
        "    #plt.ylim(2500, 3000)\n",
        "    #plt.plot(np.arange(range_future), np.array(y_test), label='True Future')     \n",
        "    plt.plot(np.arange(range_future),np.array(prediction), label='MAE')\n",
        "    plt.legend(loc='upper left')\n",
        "    plt.xlabel('Time (day)')\n",
        "    plt.ylabel('Water Levels Daily in Feet')"
      ],
      "execution_count": null,
      "outputs": []
    },
    {
      "cell_type": "code",
      "metadata": {
        "id": "oIBn4AIRPZBn"
      },
      "source": [
        "# get the model\n",
        "def get_model(n_inputs, n_outputs):\n",
        "\tmodel = Sequential()\n",
        "\tmodel.add(Dense(20, input_dim=n_inputs, kernel_initializer='he_uniform', activation='relu'))\n",
        "\tmodel.add(Dense(n_outputs))\n",
        "\tmodel.compile(loss='mae', optimizer='adam')\n",
        "\treturn model"
      ],
      "execution_count": null,
      "outputs": []
    },
    {
      "cell_type": "code",
      "metadata": {
        "colab": {
          "base_uri": "https://localhost:8080/"
        },
        "id": "lstj9bhz-OwP",
        "outputId": "39fe6ed7-e274-408e-ce32-981347a61404"
      },
      "source": [
        "model.summary()"
      ],
      "execution_count": null,
      "outputs": [
        {
          "output_type": "stream",
          "text": [
            "Model: \"sequential_45\"\n",
            "_________________________________________________________________\n",
            "Layer (type)                 Output Shape              Param #   \n",
            "=================================================================\n",
            "dense_90 (Dense)             (None, 20)                80        \n",
            "_________________________________________________________________\n",
            "dense_91 (Dense)             (None, 3)                 63        \n",
            "=================================================================\n",
            "Total params: 143\n",
            "Trainable params: 143\n",
            "Non-trainable params: 0\n",
            "_________________________________________________________________\n"
          ],
          "name": "stdout"
        }
      ]
    },
    {
      "cell_type": "code",
      "metadata": {
        "id": "DVypdw9r-RhN"
      },
      "source": [
        ""
      ],
      "execution_count": null,
      "outputs": []
    },
    {
      "cell_type": "code",
      "metadata": {
        "colab": {
          "base_uri": "https://localhost:8080/"
        },
        "id": "dhrR4xhYoT4v",
        "outputId": "c58f0784-d341-4b3a-add0-681a60eef704"
      },
      "source": [
        "# evaluate model\n",
        "results = evaluate_model(X, Y)\n",
        "\n",
        "# summarize performance\n",
        "print(results)\n",
        "print('MAE: %.3f (%.3f)' % (np.mean(results), np.std(results)))"
      ],
      "execution_count": null,
      "outputs": [
        {
          "output_type": "stream",
          "text": [
            ">4.429\n",
            ">3.761\n",
            ">4.218\n",
            ">4.894\n",
            ">4.417\n",
            ">7.912\n",
            ">3.286\n",
            ">15.331\n",
            ">3.956\n",
            ">4.835\n",
            ">4.384\n",
            ">4.230\n",
            ">6.599\n",
            ">10.010\n",
            ">3.746\n",
            ">4.564\n",
            ">6.340\n",
            ">4.499\n",
            ">7.351\n",
            ">5.784\n",
            ">2.059\n",
            ">3.885\n",
            ">4.804\n",
            ">2.084\n",
            ">5.327\n",
            ">2.865\n",
            ">4.568\n",
            ">8.909\n",
            ">5.784\n",
            ">4.949\n",
            "[4.428732872009277, 3.760965347290039, 4.218443870544434, 4.894001483917236, 4.417472839355469, 7.912192344665527, 3.286147117614746, 15.331000328063965, 3.956427574157715, 4.835126876831055, 4.383705139160156, 4.229616165161133, 6.599385738372803, 10.010334968566895, 3.7461044788360596, 4.563521862030029, 6.340485572814941, 4.49916410446167, 7.351241111755371, 5.784496784210205, 2.059117555618286, 3.88482666015625, 4.8039703369140625, 2.084040403366089, 5.32734489440918, 2.865314245223999, 4.568424224853516, 8.909332275390625, 5.784388065338135, 4.9486565589904785]\n",
            "MAE: 5.326 (2.560)\n"
          ],
          "name": "stdout"
        }
      ]
    },
    {
      "cell_type": "code",
      "metadata": {
        "colab": {
          "base_uri": "https://localhost:8080/",
          "height": 388
        },
        "id": "M13v2PtWLwyR",
        "outputId": "bdc510f0-cfda-4be1-dbd0-bda4f09127fb"
      },
      "source": [
        "plot_future(results)"
      ],
      "execution_count": null,
      "outputs": [
        {
          "output_type": "display_data",
          "data": {
            "image/png": "[encoded data removed]",
            "text/plain": [
              "<Figure size 720x432 with 1 Axes>"
            ]
          },
          "metadata": {
            "tags": [],
            "needs_background": "light"
          }
        }
      ]
    },
    {
      "cell_type": "code",
      "metadata": {
        "colab": {
          "base_uri": "https://localhost:8080/"
        },
        "id": "QKgSwfIiPZGk",
        "outputId": "f428302f-5b83-465a-f7cd-1aa61d743379"
      },
      "source": [
        "n_inputs, n_outputs = X.shape[1], Y.shape[1]\n",
        "# get model\n",
        "model = get_model(n_inputs, n_outputs)\n",
        "# fit the model on all data\n",
        "model.fit(X, Y, verbose=0, epochs=100)\n"
      ],
      "execution_count": null,
      "outputs": [
        {
          "output_type": "stream",
          "text": [
            "[[2812.8633    152.8248     67.79549 ]\n",
            " [2812.92      122.77682    67.82771 ]\n",
            " [2812.9739    133.7944     67.815506]\n",
            " [2813.029     123.77828    67.82649 ]\n",
            " [2813.0688    123.77853    67.82649 ]\n",
            " [2813.1086    123.778404   67.82637 ]\n",
            " [2813.1584    123.77816    67.82637 ]\n",
            " [2813.194     113.762535   67.837234]]\n"
          ],
          "name": "stdout"
        }
      ]
    },
    {
      "cell_type": "code",
      "metadata": {
        "id": "LSCrtyB8eG5a"
      },
      "source": [
        "model.save('Harangi.h5')"
      ],
      "execution_count": null,
      "outputs": []
    },
    {
      "cell_type": "code",
      "metadata": {
        "id": "YH2F5oxEna6b"
      },
      "source": [
        "from tensorflow import keras\n",
        "model = keras.models.load_model('Harangi.h5')"
      ],
      "execution_count": null,
      "outputs": []
    },
    {
      "cell_type": "code",
      "metadata": {
        "colab": {
          "base_uri": "https://localhost:8080/",
          "height": 635
        },
        "id": "Jx9flHsju3gk",
        "outputId": "302edc97-4719-4d44-d7a6-c11e81a8fff0"
      },
      "source": [
        "newX = X[0:7]\n",
        "trueY = X[8:15]\n",
        "trueY = np.asarray(trueY)\n",
        "newX = np.asarray(newX)\n",
        "yhat = model.predict(newX)\n",
        "print(yhat)\n",
        "print(trueY)\n",
        "plot_future(yhat[:,0], trueY[:,0])"
      ],
      "execution_count": null,
      "outputs": [
        {
          "output_type": "stream",
          "text": [
            "[[ 2.82815991e+03  1.43754028e+02 -1.07330871e+00]\n",
            " [ 2.82854004e+03  2.40604126e+02 -1.16425109e+00]\n",
            " [ 2.82852637e+03  1.67717041e+02 -1.09583068e+00]\n",
            " [ 2.82852197e+03  1.19791504e+02 -1.05078673e+00]\n",
            " [ 2.82864478e+03  1.31773071e+02 -1.06207824e+00]\n",
            " [ 2.82884766e+03  1.68715820e+02 -1.09674621e+00]\n",
            " [ 2.82884058e+03  1.19791626e+02 -1.05084777e+00]]\n",
            "[[2836.81  112.      0.  ]\n",
            " [2836.93  160.      0.  ]\n",
            " [2837.06  172.      0.  ]\n",
            " [2837.23  100.      0.  ]\n",
            " [2837.23  100.      0.  ]\n",
            " [2837.3   100.      0.  ]\n",
            " [2837.37  100.      0.  ]]\n"
          ],
          "name": "stdout"
        },
        {
          "output_type": "display_data",
          "data": {
            "image/png": "[encoded data removed]",
            "text/plain": [
              "<Figure size 720x432 with 1 Axes>"
            ]
          },
          "metadata": {
            "tags": [],
            "needs_background": "light"
          }
        }
      ]
    },
    {
      "cell_type": "code",
      "metadata": {
        "colab": {
          "base_uri": "https://localhost:8080/"
        },
        "id": "sTAZyK2aliRu",
        "outputId": "7037e7ca-071a-4247-9e8f-b65c72f37bc8"
      },
      "source": [
        "# make a prediction for new data\n",
        "rows = [[2819.25, 154, 55],[2819.29, 124, 70],[2819.35, 135, 70], [2819.40, 125, 75], [2819.44, 125, 70], [2819.48,125,59],[2819.53,125,70],[2819.56, 115,79]]\n",
        "newX = np.asarray(rows)\n",
        "yhat = model.predict(newX)\n",
        "print(yhat)"
      ],
      "execution_count": null,
      "outputs": [
        {
          "output_type": "stream",
          "text": [
            "[[2811.6934    155.71806    53.898922]\n",
            " [2811.7046    125.76305    68.92149 ]\n",
            " [2811.7856    136.74608    68.91107 ]\n",
            " [2811.8262    126.76088    73.91859 ]\n",
            " [2811.856     126.76142    68.92055 ]\n",
            " [2811.8738    126.76264    57.924747]\n",
            " [2811.9458    126.76158    68.92054 ]\n",
            " [2811.9744    116.77624    77.92636 ]]\n"
          ],
          "name": "stdout"
        }
      ]
    },
    {
      "cell_type": "code",
      "metadata": {
        "colab": {
          "base_uri": "https://localhost:8080/"
        },
        "id": "rv6ppbhk_LYS",
        "outputId": "9d3901c7-ec31-4418-8e34-0f9e3d7ea52e"
      },
      "source": [
        "print(np.asarray(rows))"
      ],
      "execution_count": null,
      "outputs": [
        {
          "output_type": "stream",
          "text": [
            "[[2819.25  154.     55.  ]\n",
            " [2819.29  124.     70.  ]\n",
            " [2819.35  135.     70.  ]\n",
            " [2819.4   125.     75.  ]\n",
            " [2819.44  125.     70.  ]\n",
            " [2819.48  125.     59.  ]\n",
            " [2819.53  125.     70.  ]\n",
            " [2819.56  115.     79.  ]]\n"
          ],
          "name": "stdout"
        }
      ]
    },
    {
      "cell_type": "code",
      "metadata": {
        "id": "-j4jTS9qDecp"
      },
      "source": [
        "import seaborn as sns"
      ],
      "execution_count": null,
      "outputs": []
    },
    {
      "cell_type": "code",
      "metadata": {
        "id": "LA_HrnPtlZNi"
      },
      "source": [
        "trend = []\n",
        "days = ['Day 1', 'Day 2', 'Day 3', 'Day 4', 'Day 5', 'Day 6','Day 7']\n",
        "for i in range(7):\n",
        "  predicted_water_stress = yhat[i][2]/yhat[i][1] #outflow/inflow\n",
        "  trend.append(predicted_water_stress)\n"
      ],
      "execution_count": null,
      "outputs": []
    },
    {
      "cell_type": "code",
      "metadata": {
        "colab": {
          "base_uri": "https://localhost:8080/",
          "height": 295
        },
        "id": "ypnnYBtzuNkC",
        "outputId": "b47f47a0-8723-4181-da07-e2b874d56244"
      },
      "source": [
        "sizes = [100,100,100,100,100,100,100]\n",
        "plt.plot(trend, color='tab:orange')\n",
        "plt.scatter(np.arange(0,7), trend, marker='o', c=['green','red','blue','red', 'red', 'red', 'red'], s=sizes)\n",
        "plt.xticks(np.arange(0,7), days)\n",
        "plt.xlabel('Days of the next week')\n",
        "plt.ylabel('Water Stress')\n",
        "plt.title('Forecasted Water Stress Levels')\n",
        "plt.show()"
      ],
      "execution_count": null,
      "outputs": [
        {
          "output_type": "display_data",
          "data": {
            "image/png": "[encoded data removed]",
            "text/plain": [
              "<Figure size 432x288 with 1 Axes>"
            ]
          },
          "metadata": {
            "tags": [],
            "needs_background": "light"
          }
        }
      ]
    },
    {
      "cell_type": "markdown",
      "metadata": {
        "id": "61uvD66A4pvX"
      },
      "source": [
        "Figure 1: The above graph plots the forecasted water stress levels of the following week based on the previous week's data. \\\n",
        " (Harangi Water Reservoir)"
      ]
    },
    {
      "cell_type": "code",
      "metadata": {
        "colab": {
          "base_uri": "https://localhost:8080/"
        },
        "id": "rBo2zVY7lZQc",
        "outputId": "c7c2d782-e23e-4b09-822f-6e0409ad43cd"
      },
      "source": [
        "trend"
      ],
      "execution_count": null,
      "outputs": [
        {
          "output_type": "execute_result",
          "data": {
            "text/plain": [
              "[0.34613147,\n",
              " 0.54802656,\n",
              " 0.50393456,\n",
              " 0.58313406,\n",
              " 0.54370284,\n",
              " 0.4569544,\n",
              " 0.5437021]"
            ]
          },
          "metadata": {
            "tags": []
          },
          "execution_count": 68
        }
      ]
    },
    {
      "cell_type": "code",
      "metadata": {
        "colab": {
          "base_uri": "https://localhost:8080/"
        },
        "id": "Ze3rLw72lZVZ",
        "outputId": "68631728-3656-4f34-81aa-557a55bda059"
      },
      "source": [
        "indicator = []\n",
        "for i in trend:\n",
        "  if i >= 0.4:\n",
        "    indicator.append(\"DANGER: SEVERELY STRESSED\")\n",
        "  elif i < 0.4 and i >= 0.2:\n",
        "    indicator.append(\"WARNING: WATER STRESSED CONDITIONS\")\n",
        "  else:\n",
        "    indicator.append(\"STABLE\")\n",
        "print(indicator)"
      ],
      "execution_count": null,
      "outputs": [
        {
          "output_type": "stream",
          "text": [
            "['WARNING: WATER STRESSED CONDITIONS', 'DANGER: SEVERELY STRESSED', 'DANGER: SEVERELY STRESSED', 'DANGER: SEVERELY STRESSED', 'DANGER: SEVERELY STRESSED', 'DANGER: SEVERELY STRESSED', 'DANGER: SEVERELY STRESSED']\n"
          ],
          "name": "stdout"
        }
      ]
    },
    {
      "cell_type": "code",
      "metadata": {
        "id": "Kd1k7yiyNAOp",
        "colab": {
          "base_uri": "https://localhost:8080/",
          "height": 295
        },
        "outputId": "478d365f-6f2d-452c-f54a-e44beace9de1"
      },
      "source": [
        "plt.plot(range(1,8), [2 if x=='DANGER: SEVERELY STRESSED' else 3 for x in indicator], color='tab:red', linewidth= 3.0)\n",
        "plt.bar(range(1,8), [2 if x=='DANGER: SEVERELY STRESSED' else 3 for x in indicator], align='center', color='orange')\n",
        "plt.xticks(range(1,8), days)\n",
        "plt.yticks([1,2,3],[\"STABLE\", \"WARNING: WATER STRESSED CONDITIONS\", \"DANGER: SEVERELY STRESSED\"])\n",
        "plt.xlabel('Days')\n",
        "plt.ylabel('PREDICTED DANGER LEVELS')\n",
        "plt.title('FORECAST')\n",
        "plt.show()"
      ],
      "execution_count": null,
      "outputs": [
        {
          "output_type": "display_data",
          "data": {
            "image/png": "[encoded data removed]",
            "text/plain": [
              "<Figure size 432x288 with 1 Axes>"
            ]
          },
          "metadata": {
            "tags": [],
            "needs_background": "light"
          }
        }
      ]
    },
    {
      "cell_type": "markdown",
      "metadata": {
        "id": "uUaw98pW3p12"
      },
      "source": [
        "Figure 2: The above graph plots the water stress danger levels, the data generated corresponds to the predicted water levels for the next week based on the previous week's data."
      ]
    },
    {
      "cell_type": "code",
      "metadata": {
        "id": "mDB9kGkSqj3G"
      },
      "source": [
        ""
      ],
      "execution_count": null,
      "outputs": []
    }
  ]
}